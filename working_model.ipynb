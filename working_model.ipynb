{
 "cells": [
  {
   "cell_type": "markdown",
   "metadata": {},
   "source": [
    "# Multi-Layer Perceptron Regression for producing ratings"
   ]
  },
  {
   "cell_type": "code",
   "execution_count": 1,
   "metadata": {
    "collapsed": true
   },
   "outputs": [],
   "source": [
    "from sklearn.linear_model import LassoCV"
   ]
  },
  {
   "cell_type": "code",
   "execution_count": 2,
   "metadata": {
    "collapsed": false
   },
   "outputs": [],
   "source": [
    "import scipy.io\n",
    "import numpy as np\n",
    "import matplotlib.pyplot as plt\n",
    "import pandas as pd\n",
    "from pandas import DataFrame\n",
    "from sklearn import linear_model, metrics, model_selection\n",
    "from sklearn.linear_model import ElasticNet\n",
    "import matplotlib.pyplot as plt\n",
    "from sklearn.linear_model import Ridge\n",
    "import colorsys\n",
    "import math"
   ]
  },
  {
   "cell_type": "code",
   "execution_count": 3,
   "metadata": {
    "collapsed": true
   },
   "outputs": [],
   "source": [
    "data = scipy.io.loadmat('data/kulerData.mat')\n",
    "hueProbs = scipy.io.loadmat('data/hueProbsRGB.mat')\n",
    "huedata = hueProbs['hueProbs']"
   ]
  },
  {
   "cell_type": "code",
   "execution_count": 4,
   "metadata": {
    "collapsed": true
   },
   "outputs": [],
   "source": [
    "palette = data['data']\n",
    "rating = data['targets']"
   ]
  },
  {
   "cell_type": "code",
   "execution_count": 5,
   "metadata": {
    "collapsed": true
   },
   "outputs": [],
   "source": [
    "hueProb  = huedata['hueProb']\n",
    "hueJoint = huedata['hueJoint']\n",
    "hueAdjacency = huedata['hueAdjacency']\n",
    "hueSaturation = huedata['hueSaturation']\n",
    "hueValue = huedata['hueValue']\n",
    "hueJointRating = huedata['hueJointRating']\n",
    "hueAdjacencyRating = huedata['hueAdjacencyRating']\n",
    "hueSaturationRating = huedata['hueSaturationRating']\n",
    "hueValueRating = huedata['hueValueRating']\n",
    "hueRatingFactor = huedata['hueRatingFactor']"
   ]
  },
  {
   "cell_type": "code",
   "execution_count": 6,
   "metadata": {
    "collapsed": false
   },
   "outputs": [
    {
     "name": "stderr",
     "output_type": "stream",
     "text": [
      "D:\\Python\\ANaconda\\lib\\site-packages\\sklearn\\cross_validation.py:44: DeprecationWarning: This module was deprecated in version 0.18 in favor of the model_selection module into which all the refactored classes and functions are moved. Also note that the interface of the new CV iterators are different from that of this module. This module will be removed in 0.20.\n",
      "  \"This module will be removed in 0.20.\", DeprecationWarning)\n"
     ]
    }
   ],
   "source": [
    "from sklearn.cross_validation import train_test_split\n",
    "from sklearn.linear_model import LinearRegression\n",
    "from sklearn.linear_model import Ridge\n",
    "from sklearn.linear_model import Lasso"
   ]
  },
  {
   "cell_type": "code",
   "execution_count": 7,
   "metadata": {
    "collapsed": false
   },
   "outputs": [],
   "source": [
    "def rgb2hsv(r, g, b):\n",
    "    h, s, v, = colorsys.rgb_to_hsv(r, g, b)\n",
    "    return h, s, v"
   ]
  },
  {
   "cell_type": "code",
   "execution_count": 8,
   "metadata": {
    "collapsed": true
   },
   "outputs": [],
   "source": [
    "def rgb2chsv(r, g, b):\n",
    "    h, s, v = colorsys.rgb_to_hsv(r, g, b)\n",
    "    d1 = s*math.cos(h)\n",
    "    d2 = s*math.sin(h)\n",
    "    d3 = v\n",
    "    return d1, d2, d3"
   ]
  },
  {
   "cell_type": "code",
   "execution_count": 9,
   "metadata": {
    "collapsed": true
   },
   "outputs": [],
   "source": [
    "def rgb2lab(r, g, b):\n",
    "    inputColor = [r, g, b]\n",
    "    num = 0\n",
    "    RGB = [0, 0, 0]\n",
    "    for value in inputColor:\n",
    "        value = float(value) / 255\n",
    "        if value > 0.04045:\n",
    "            value = ( ( value + 0.055 ) / 1.055 ) ** 2.4\n",
    "        else:\n",
    "            value = value / 12.92\n",
    "        RGB[num] = value * 100\n",
    "        num = num + 1\n",
    "    XYZ = [0, 0, 0,]\n",
    "    X = RGB [0] * 0.4124 + RGB [1] * 0.3576 + RGB [2] * 0.1805\n",
    "    Y = RGB [0] * 0.2126 + RGB [1] * 0.7152 + RGB [2] * 0.0722\n",
    "    Z = RGB [0] * 0.0193 + RGB [1] * 0.1192 + RGB [2] * 0.9505\n",
    "    XYZ[ 0 ] = round( X, 4 )\n",
    "    XYZ[ 1 ] = round( Y, 4 )\n",
    "    XYZ[ 2 ] = round( Z, 4 )\n",
    "    XYZ[ 0 ] = float( XYZ[ 0 ] ) / 95.047         # ref_X =  95.047   Observer= 2°, Illuminant= D65\n",
    "    XYZ[ 1 ] = float( XYZ[ 1 ] ) / 100.0          # ref_Y = 100.000\n",
    "    XYZ[ 2 ] = float( XYZ[ 2 ] ) / 108.883        # ref_Z = 108.883\n",
    "    num = 0\n",
    "    for value in XYZ:\n",
    "        if value > 0.008856:\n",
    "            value = value ** ( 0.3333333333333333 )\n",
    "        else:\n",
    "            value = ( 7.787 * value ) + ( 16 / 116 )\n",
    "        XYZ[num] = value\n",
    "        num = num + 1\n",
    "    Lab = [0, 0, 0]\n",
    "    L = ( 116 * XYZ[ 1 ] ) - 16\n",
    "    a = 500 * ( XYZ[ 0 ] - XYZ[ 1 ] )\n",
    "    b = 200 * ( XYZ[ 1 ] - XYZ[ 2 ] )\n",
    "    Lab [ 0 ] = round( L, 4 )\n",
    "    Lab [ 1 ] = round( a, 4 )\n",
    "    Lab [ 2 ] = round( b, 4 )\n",
    "    return Lab[0], Lab[1], Lab[2]"
   ]
  },
  {
   "cell_type": "code",
   "execution_count": 10,
   "metadata": {
    "collapsed": false
   },
   "outputs": [],
   "source": [
    "def find_dif(col1, col2):\n",
    "    d1 = abs(col1[0] - col2[0])\n",
    "    d2 = abs(col1[1] - col2[2])\n",
    "    d3 = abs(col1[0] - col2[0])\n",
    "    return d1, d2, d3"
   ]
  },
  {
   "cell_type": "code",
   "execution_count": 22,
   "metadata": {
    "collapsed": false
   },
   "outputs": [],
   "source": [
    "def create_features(palette, hueProb, hueJoint, hueAdjacency):\n",
    "    rgb = np.zeros((len(palette), 3))\n",
    "    lab = np.zeros((len(palette), 3))\n",
    "    hsv = np.zeros((len(palette), 3))\n",
    "    chsv = np.zeros((len(palette), 3))\n",
    "    rgb_sorted = np.zeros((len(palette), 3))\n",
    "    lab_sorted = np.zeros((len(palette), 3))\n",
    "    hsv_sorted = np.zeros((len(palette), 3))\n",
    "    chsv_sorted = np.zeros((len(palette), 3))\n",
    "    rgb_diff = np.zeros((4, 3))\n",
    "    lab_diff = np.zeros((4, 3))\n",
    "    hsv_diff = np.zeros((4, 3))\n",
    "    chsv_diff = np.zeros((4, 3))\n",
    "    rgb_diff_s = np.zeros((4, 3))\n",
    "    lab_diff_s = np.zeros((4, 3))\n",
    "    hsv_diff_s = np.zeros((4, 3))\n",
    "    chsv_diff_s = np.zeros((4, 3))\n",
    "    rgb_mean = np.zeros(3)\n",
    "    rgb_std = np.zeros(3)\n",
    "    rgb_median = np.zeros(3)\n",
    "    rgb_min = np.zeros(3)\n",
    "    rgb_max = np.zeros(3)\n",
    "    lab_mean = np.zeros(3)\n",
    "    lab_std = np.zeros(3)\n",
    "    lab_median = np.zeros(3)\n",
    "    lab_min = np.zeros(3)\n",
    "    lab_max = np.zeros(3)\n",
    "    hsv_mean = np.zeros(3)\n",
    "    hsv_std = np.zeros(3)\n",
    "    hsv_median = np.zeros(3)\n",
    "    hsv_min = np.zeros(3)\n",
    "    hsv_max = np.zeros(3)\n",
    "    chsv_mean = np.zeros(3)\n",
    "    chsv_std = np.zeros(3)\n",
    "    chsv_median = np.zeros(3)\n",
    "    chsv_min = np.zeros(3)\n",
    "    chsv_max = np.zeros(3)\n",
    "    rgb_mmd = np.zeros(3)\n",
    "    lab_mmd = np.zeros(3)\n",
    "    hsv_mmd = np.zeros(3)\n",
    "    chsv_mmd = np.zeros(3)\n",
    "    hj = np.zeros((5, 5))\n",
    "    ha = np.zeros((5, 5))\n",
    "    for i in range(len(palette)):\n",
    "        rgb[i] = palette[i]\n",
    "        lab[i] = rgb2lab(rgb[i][0], rgb[i][1], rgb[i][2])\n",
    "        hsv[i] = rgb2hsv(rgb[i][0], rgb[i][1], rgb[i][2])\n",
    "        chsv[i] = rgb2chsv(rgb[i][0], rgb[i][1], rgb[i][2]) \n",
    "        rgb_sorted[i] = sorted(rgb[i])\n",
    "        lab_sorted[i] = sorted(lab[i])\n",
    "        hsv_sorted[i] = sorted(hsv[i])\n",
    "        chsv_sorted[i] = sorted(chsv[i])\n",
    "    for i in range(4):\n",
    "        rgb_diff[i] = find_dif(rgb[i], rgb[i+1])\n",
    "        lab_diff[i] = find_dif(lab[i], lab[i+1])\n",
    "        hsv_diff[i] = find_dif(hsv[i], hsv[i+1])\n",
    "        chsv_diff[i] = find_dif(chsv[i], chsv[i+1])\n",
    "        rgb_diff_s[i] = sorted(rgb_diff[i])\n",
    "        lab_diff_s[i] = sorted(lab_diff[i])\n",
    "        hsv_diff_s[i] = sorted(hsv_diff[i])\n",
    "        chsv_diff_s[i] = sorted(chsv_diff[i])\n",
    "    for i in range(3):\n",
    "        rgb_mean[i] = np.mean(rgb[:, i])\n",
    "        rgb_std[i] = np.std(rgb[:, i])\n",
    "        rgb_median[i] = np.median(rgb[:, i])\n",
    "        rgb_min[i] = min(rgb[:, i])\n",
    "        rgb_max[i] = max(rgb[:, i])\n",
    "        lab_mean[i] = np.mean(lab[:, i])\n",
    "        lab_std[i] = np.std(lab[:, i])\n",
    "        lab_median[i] = np.median(lab[:, i])\n",
    "        lab_min[i] = min(lab[:, i])\n",
    "        lab_max[i] = max(lab[:, i])\n",
    "        hsv_mean[i] = np.mean(hsv[:, i])\n",
    "        hsv_std[i] = np.std(hsv[:, i])\n",
    "        hsv_median[i] = np.median(hsv[:, i])\n",
    "        hsv_min[i] = min(hsv[:, i])\n",
    "        hsv_max[i] = max(hsv[:, i])\n",
    "        chsv_mean[i] = np.mean(chsv[:, i])\n",
    "        chsv_std[i] = np.std(chsv[:, i])\n",
    "        chsv_median[i] = np.median(chsv[:, i])\n",
    "        chsv_min[i] = min(chsv[:, i])\n",
    "        chsv_max[i] = max(chsv[:, i])\n",
    "        rgb_mmd[i] = rgb_max[i] - rgb_min[i]\n",
    "        lab_mmd[i] = lab_max[i] - lab_min[i]\n",
    "        hsv_mmd[i] = hsv_max[i] - hsv_min[i]\n",
    "        chsv_mmd[i] = chsv_max[i] - chsv_min[i]\n",
    "        \n",
    "    hsv_indices = (hsv[:, 0]*360).astype(int)\n",
    "    hp_mean = np.mean(hueProb[0][0][hsv_indices]/100.0)\n",
    "    hp_std = np.std(hueProb[0][0][hsv_indices]/100.0)\n",
    "    hp_min = np.amin(hueProb[0][0][hsv_indices]/100.0)\n",
    "    hp_max = np.amax(hueProb[0][0][hsv_indices]/100.0)\n",
    "    hp_mean_log = np.mean(np.log(hueProb[0][0][hsv_indices]/100.0))\n",
    "    hp_std_log = np.std(np.log(hueProb[0][0][hsv_indices]/100.0))\n",
    "    hp_min_log = np.amin(np.log(hueProb[0][0][hsv_indices]/100.0))\n",
    "    hp_max_log = np.amax(np.log(hueProb[0][0][hsv_indices]/100.0))\n",
    "    \n",
    "    for i in range(5):\n",
    "        for j in range(5):\n",
    "            hj[i][j] = hueJoint[0][0][hsv_indices[i]][hsv_indices[j]]\n",
    "            ha[i][j] = hueAdjacency[0][0][hsv_indices[i]][hsv_indices[j]]\n",
    "            \n",
    "    hj_mean = np.mean(hj/100.0)\n",
    "    hj_std = np.std(hj/100.0)\n",
    "    hj_min = np.min(hj/100.0)\n",
    "    hj_max = np.max(hj/100.0)\n",
    "    hj_mean_log = np.mean(np.log((hj/100.0)))\n",
    "    hj_std_log = np.std(np.log((hj/100.0)))\n",
    "    hj_min_log = np.min(np.log((hj/100.0)))\n",
    "    hj_max_log = np.max(np.log((hj/100.0)))\n",
    "    \n",
    "    \n",
    "    ha_mean = np.mean(ha/100.0)\n",
    "    ha_std = np.std(ha/100.0)\n",
    "    ha_min = np.min(ha/100.0)\n",
    "    ha_max = np.max(ha/100.0)\n",
    "    ha_mean_log = np.mean(np.log((ha/100.0)))\n",
    "    ha_std_log = np.std(np.log((ha/100.0)))\n",
    "    ha_min_log = np.min(np.log((ha/100.0)))\n",
    "    ha_max_log = np.max(np.log((ha/100.0)))\n",
    "\n",
    "    result = (np.ravel(rgb), np.ravel(rgb_sorted), np.ravel(rgb_diff), np.ravel(rgb_diff_s), np.ravel(rgb_mean),np.ravel(rgb_std), np.ravel(rgb_median), np.ravel(rgb_max), np.ravel(rgb_min), np.ravel(rgb_mmd), np.ravel(lab), np.ravel(lab_sorted), np.ravel(lab_diff), np.ravel(lab_diff_s), np.ravel(lab_mean),np.ravel(lab_std), np.ravel(lab_median), np.ravel(lab_max), np.ravel(lab_min), np.ravel(lab_mmd), np.ravel(chsv), np.ravel(chsv_sorted), np.ravel(chsv_diff), np.ravel(chsv_diff_s), np.ravel(chsv_mean),np.ravel(chsv_std), np.ravel(chsv_median), np.ravel(chsv_max), np.ravel(chsv_min), np.ravel(chsv_mmd), np.ravel(hsv), np.ravel(hsv_sorted), np.ravel(hsv_diff), np.ravel(hsv_diff_s), np.ravel(hsv_mean),np.ravel(hsv_std), np.ravel(hsv_median), np.ravel(hsv_max), np.ravel(hsv_min), np.ravel(hsv_mmd), np.ravel(hp_mean), np.ravel(hp_std), np.ravel(hp_max), np.ravel(hp_min), np.ravel(hp_mean_log), np.ravel(hp_std_log), np.ravel(hp_max_log), np.ravel(hp_min_log), np.ravel(ha_mean), np.ravel(ha_std), np.ravel(ha_max), np.ravel(ha_min), np.ravel(ha_mean_log), np.ravel(ha_std_log), np.ravel(ha_max_log), np.ravel(ha_min_log), np.ravel(hj_mean), np.ravel(hj_std), np.ravel(hj_max), np.ravel(hj_min), np.ravel(hj_mean_log), np.ravel(hj_std_log), np.ravel(hj_max_log), np.ravel(hj_min_log))\n",
    "    r = np.concatenate(result).ravel()\n",
    "    #result = np.ndarray.flatten(np.array(np.ravel(rgb), np.ravel(rgb_sorted), np.ravel(rgb_diff), np.ravel(rgb_diff_s), np.ravel(rgb_mean), np.ravel(rgb_std), np.ravel(rgb_median), np.ravel(rgb_min), np.ravel(rgb_max), np.ravel(rgb_mmd))\n",
    "    #r = np.ravel(result)\n",
    "    #print (len(r))\n",
    "    return r\n",
    "    \n",
    "    #print((hueJoint[0][0][(hsv[:, 0]*360).astype(int)]/100.0))\n",
    "    #print((hueJoint[0][0][(hsv[:, 0]*360).astype(int)][np.transpose((hsv[:, 0]*360).astype(int))])"
   ]
  },
  {
   "cell_type": "code",
   "execution_count": 258,
   "metadata": {
    "collapsed": false
   },
   "outputs": [],
   "source": [
    "#create_features(palette[0], hueProb, hueJoint, hueAdjacency)"
   ]
  },
  {
   "cell_type": "code",
   "execution_count": 24,
   "metadata": {
    "collapsed": false
   },
   "outputs": [],
   "source": [
    "w = len(palette)\n",
    "h = 312\n",
    "features = np.zeros((w, h))"
   ]
  },
  {
   "cell_type": "code",
   "execution_count": 33,
   "metadata": {
    "collapsed": false
   },
   "outputs": [
    {
     "name": "stdout",
     "output_type": "stream",
     "text": [
      "0\n",
      "1\n",
      "2\n",
      "3\n",
      "4\n",
      "5\n",
      "6\n",
      "7\n",
      "8\n",
      "9\n",
      "10\n",
      "11\n",
      "12\n",
      "13\n",
      "14\n",
      "15\n",
      "16\n",
      "17\n",
      "18\n",
      "19\n",
      "20\n",
      "21\n",
      "22\n",
      "23\n",
      "24\n",
      "25\n",
      "26\n",
      "27\n",
      "28\n",
      "29\n",
      "30\n",
      "31\n",
      "32\n",
      "33\n",
      "34\n",
      "35\n",
      "36\n",
      "37\n",
      "38\n",
      "39\n",
      "40\n",
      "41\n",
      "42\n",
      "43\n",
      "44\n"
     ]
    }
   ],
   "source": [
    "for i in range(w):\n",
    "    features[i] = create_features(palette[i], hueProb, hueJoint, hueAdjacency)\n",
    "    if(i%1000 == 0):\n",
    "        print (int(i/1000.0))"
   ]
  },
  {
   "cell_type": "markdown",
   "metadata": {},
   "source": [
    "Check whether there are NaNs and inf-s in data and replace them with 0:"
   ]
  },
  {
   "cell_type": "code",
   "execution_count": 98,
   "metadata": {
    "collapsed": false
   },
   "outputs": [],
   "source": [
    "features_clean = features\n",
    "features_clean[np.isnan(features_clean)] = 0\n",
    "features_clean[np.isinf(features_clean)] = 0"
   ]
  },
  {
   "cell_type": "code",
   "execution_count": 99,
   "metadata": {
    "collapsed": false
   },
   "outputs": [
    {
     "name": "stdout",
     "output_type": "stream",
     "text": [
      "False\n",
      "True\n"
     ]
    }
   ],
   "source": [
    "print(np.any(np.isnan(features_clean)))\n",
    "print(np.all(np.isfinite(features_clean)))"
   ]
  },
  {
   "cell_type": "code",
   "execution_count": 100,
   "metadata": {
    "collapsed": true
   },
   "outputs": [],
   "source": [
    "ratings_clean = rating\n",
    "ratings_clean[np.isnan(ratings_clean)] = 0\n",
    "ratings_clean[np.isinf(ratings_clean)] = 0"
   ]
  },
  {
   "cell_type": "code",
   "execution_count": 101,
   "metadata": {
    "collapsed": false
   },
   "outputs": [
    {
     "name": "stdout",
     "output_type": "stream",
     "text": [
      "False\n",
      "True\n"
     ]
    }
   ],
   "source": [
    "print(np.any(np.isnan(ratings_clean)))\n",
    "print(np.all(np.isfinite(ratings_clean)))"
   ]
  },
  {
   "cell_type": "markdown",
   "metadata": {},
   "source": [
    "Prepare train and test data:"
   ]
  },
  {
   "cell_type": "code",
   "execution_count": 270,
   "metadata": {
    "collapsed": true
   },
   "outputs": [],
   "source": [
    "X = features_clean\n",
    "Y = ratings_clean"
   ]
  },
  {
   "cell_type": "code",
   "execution_count": 271,
   "metadata": {
    "collapsed": false
   },
   "outputs": [],
   "source": [
    "X_train,X_test,y_train,y_test=train_test_split(X,Y, test_size=0.3, random_state=31)"
   ]
  },
  {
   "cell_type": "markdown",
   "metadata": {},
   "source": [
    "MLPClassifier:"
   ]
  },
  {
   "cell_type": "code",
   "execution_count": 272,
   "metadata": {
    "collapsed": false
   },
   "outputs": [],
   "source": [
    "from sklearn.metrics import mean_squared_error, explained_variance_score\n",
    "from sklearn.model_selection import cross_val_predict\n",
    "from sklearn import cross_validation"
   ]
  },
  {
   "cell_type": "code",
   "execution_count": 273,
   "metadata": {
    "collapsed": true
   },
   "outputs": [],
   "source": [
    "from sklearn.neural_network import MLPRegressor\n",
    "mlp = MLPRegressor(activation='logistic')"
   ]
  },
  {
   "cell_type": "code",
   "execution_count": 274,
   "metadata": {
    "collapsed": false
   },
   "outputs": [
    {
     "data": {
      "text/plain": [
       "MLPRegressor(activation='logistic', alpha=0.0001, batch_size='auto',\n",
       "       beta_1=0.9, beta_2=0.999, early_stopping=False, epsilon=1e-08,\n",
       "       hidden_layer_sizes=(100,), learning_rate='constant',\n",
       "       learning_rate_init=0.001, max_iter=200, momentum=0.9,\n",
       "       nesterovs_momentum=True, power_t=0.5, random_state=None,\n",
       "       shuffle=True, solver='adam', tol=0.0001, validation_fraction=0.1,\n",
       "       verbose=False, warm_start=False)"
      ]
     },
     "execution_count": 274,
     "metadata": {},
     "output_type": "execute_result"
    }
   ],
   "source": [
    "mlp.fit(X_train,y_train)"
   ]
  },
  {
   "cell_type": "code",
   "execution_count": 275,
   "metadata": {
    "collapsed": false
   },
   "outputs": [],
   "source": [
    "predictions = mlp.predict(X_test)"
   ]
  },
  {
   "cell_type": "code",
   "execution_count": 276,
   "metadata": {
    "collapsed": false
   },
   "outputs": [
    {
     "data": {
      "text/plain": [
       "0.66908332879296017"
      ]
     },
     "execution_count": 276,
     "metadata": {},
     "output_type": "execute_result"
    }
   ],
   "source": [
    "rmse = np.sqrt(mean_squared_error(y_test,predictions))\n",
    "rmse"
   ]
  },
  {
   "cell_type": "code",
   "execution_count": 277,
   "metadata": {
    "collapsed": false
   },
   "outputs": [
    {
     "data": {
      "image/png": "[encoded data removed]",
      "text/plain": [
       "<matplotlib.figure.Figure at 0x2a36d048>"
      ]
     },
     "metadata": {},
     "output_type": "display_data"
    }
   ],
   "source": [
    "plt.plot(y_test, predictions, 'r.')\n",
    "plt.show()"
   ]
  },
  {
   "cell_type": "code",
   "execution_count": null,
   "metadata": {
    "collapsed": true
   },
   "outputs": [],
   "source": []
  }
 ],
 "metadata": {
  "anaconda-cloud": {},
  "kernelspec": {
   "display_name": "Python [default]",
   "language": "python",
   "name": "python2"
  },
  "language_info": {
   "codemirror_mode": {
    "name": "ipython",
    "version": 2
   },
   "file_extension": ".py",
   "mimetype": "text/x-python",
   "name": "python",
   "nbconvert_exporter": "python",
   "pygments_lexer": "ipython2",
   "version": "2.7.12"
  }
 },
 "nbformat": 4,
 "nbformat_minor": 2
}
