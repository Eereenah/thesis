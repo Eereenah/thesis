{
 "cells": [
  {
   "cell_type": "code",
   "execution_count": 1,
   "metadata": {},
   "outputs": [],
   "source": [
    "from PIL import Image\n",
    "from skimage import io, color\n",
    "import requests\n",
    "from io import BytesIO\n",
    "import math\n",
    "from itertools import combinations\n",
    "from itertools import permutations\n",
    "import struct\n",
    "import colorsys\n",
    "from collections import OrderedDict\n",
    "from random import sample "
   ]
  },
  {
   "cell_type": "code",
   "execution_count": 2,
   "metadata": {},
   "outputs": [],
   "source": [
    "import kmedoids\n",
    "from sklearn.metrics.pairwise import pairwise_distances"
   ]
  },
  {
   "cell_type": "code",
   "execution_count": 3,
   "metadata": {},
   "outputs": [
    {
     "name": "stderr",
     "output_type": "stream",
     "text": [
      "D:\\Anaconda\\lib\\site-packages\\sklearn\\cross_validation.py:41: DeprecationWarning: This module was deprecated in version 0.18 in favor of the model_selection module into which all the refactored classes and functions are moved. Also note that the interface of the new CV iterators are different from that of this module. This module will be removed in 0.20.\n",
      "  \"This module will be removed in 0.20.\", DeprecationWarning)\n"
     ]
    }
   ],
   "source": [
    "import scipy\n",
    "import scipy.misc\n",
    "import scipy.cluster\n",
    "from sklearn.linear_model import LassoCV\n",
    "from sklearn.cluster import KMeans\n",
    "from sklearn import linear_model, metrics, model_selection\n",
    "from sklearn.linear_model import ElasticNet\n",
    "from sklearn.cross_validation import train_test_split\n",
    "from sklearn.linear_model import LinearRegression\n",
    "from sklearn.linear_model import Ridge\n",
    "from sklearn.linear_model import Lasso"
   ]
  },
  {
   "cell_type": "code",
   "execution_count": 4,
   "metadata": {},
   "outputs": [],
   "source": [
    "import cv2 as cv2\n",
    "import numpy as np\n",
    "import scipy.io\n",
    "import pandas as pd"
   ]
  },
  {
   "cell_type": "code",
   "execution_count": 5,
   "metadata": {},
   "outputs": [],
   "source": [
    "import seaborn as sns\n",
    "import matplotlib.pyplot as plt"
   ]
  },
  {
   "cell_type": "markdown",
   "metadata": {},
   "source": [
    "### Importing data"
   ]
  },
  {
   "cell_type": "code",
   "execution_count": 6,
   "metadata": {},
   "outputs": [],
   "source": [
    "data = scipy.io.loadmat('data/kulerData.mat')\n",
    "hueProbs = scipy.io.loadmat('data/hueProbsRGB.mat')\n",
    "huedata = hueProbs['hueProbs']"
   ]
  },
  {
   "cell_type": "code",
   "execution_count": 7,
   "metadata": {},
   "outputs": [],
   "source": [
    "palette = data['data']\n",
    "rating = data['targets']"
   ]
  },
  {
   "cell_type": "code",
   "execution_count": 8,
   "metadata": {},
   "outputs": [],
   "source": [
    "data = hueProbs['hueProbs']"
   ]
  },
  {
   "cell_type": "code",
   "execution_count": 9,
   "metadata": {},
   "outputs": [],
   "source": [
    "hueProb  = huedata['hueProb']\n",
    "hueJoint = huedata['hueJoint']\n",
    "hueAdjacency = huedata['hueAdjacency']\n",
    "hueSaturation = huedata['hueSaturation']\n",
    "hueValue = huedata['hueValue']\n",
    "hueJointRating = huedata['hueJointRating']\n",
    "hueAdjacencyRating = huedata['hueAdjacencyRating']\n",
    "hueSaturationRating = huedata['hueSaturationRating']\n",
    "hueValueRating = huedata['hueValueRating']\n",
    "hueRatingFactor = huedata['hueRatingFactor']"
   ]
  },
  {
   "cell_type": "markdown",
   "metadata": {},
   "source": [
    "### Defining Functions"
   ]
  },
  {
   "cell_type": "code",
   "execution_count": 10,
   "metadata": {},
   "outputs": [],
   "source": [
    "def rgb2hsv(r, g, b):\n",
    "    h, s, v, = colorsys.rgb_to_hsv(r, g, b)\n",
    "    return h, s, v"
   ]
  },
  {
   "cell_type": "code",
   "execution_count": 11,
   "metadata": {},
   "outputs": [],
   "source": [
    "def rgb2chsv(r, g, b):\n",
    "    h, s, v = colorsys.rgb_to_hsv(r, g, b)\n",
    "    d1 = s*math.cos(h)\n",
    "    d2 = s*math.sin(h)\n",
    "    d3 = v\n",
    "    return d1, d2, d3"
   ]
  },
  {
   "cell_type": "code",
   "execution_count": 12,
   "metadata": {},
   "outputs": [],
   "source": [
    "def rgb2lab(r, g, b):\n",
    "    inputColor = [r, g, b]\n",
    "    num = 0\n",
    "    RGB = [0, 0, 0]\n",
    "    for value in inputColor:\n",
    "        value = float(value) / 255\n",
    "        if value > 0.04045:\n",
    "            value = ( ( value + 0.055 ) / 1.055 ) ** 2.4\n",
    "        else:\n",
    "            value = value / 12.92\n",
    "        RGB[num] = value * 100\n",
    "        num = num + 1\n",
    "    XYZ = [0, 0, 0,]\n",
    "    X = RGB [0] * 0.4124 + RGB [1] * 0.3576 + RGB [2] * 0.1805\n",
    "    Y = RGB [0] * 0.2126 + RGB [1] * 0.7152 + RGB [2] * 0.0722\n",
    "    Z = RGB [0] * 0.0193 + RGB [1] * 0.1192 + RGB [2] * 0.9505\n",
    "    XYZ[ 0 ] = round( X, 4 )\n",
    "    XYZ[ 1 ] = round( Y, 4 )\n",
    "    XYZ[ 2 ] = round( Z, 4 )\n",
    "    XYZ[ 0 ] = float( XYZ[ 0 ] ) / 95.047         # ref_X =  95.047   Observer= 2°, Illuminant= D65\n",
    "    XYZ[ 1 ] = float( XYZ[ 1 ] ) / 100.0          # ref_Y = 100.000\n",
    "    XYZ[ 2 ] = float( XYZ[ 2 ] ) / 108.883        # ref_Z = 108.883\n",
    "    num = 0\n",
    "    for value in XYZ:\n",
    "        if value > 0.008856:\n",
    "            value = value ** ( 0.3333333333333333 )\n",
    "        else:\n",
    "            value = ( 7.787 * value ) + ( 16 / 116 )\n",
    "        XYZ[num] = value\n",
    "        num = num + 1\n",
    "    Lab = [0, 0, 0]\n",
    "    L = ( 116 * XYZ[ 1 ] ) - 16\n",
    "    a = 500 * ( XYZ[ 0 ] - XYZ[ 1 ] )\n",
    "    b = 200 * ( XYZ[ 1 ] - XYZ[ 2 ] )\n",
    "    Lab [ 0 ] = round( L, 4 )\n",
    "    Lab [ 1 ] = round( a, 4 )\n",
    "    Lab [ 2 ] = round( b, 4 )\n",
    "    return Lab[0], Lab[1], Lab[2]"
   ]
  },
  {
   "cell_type": "code",
   "execution_count": 13,
   "metadata": {},
   "outputs": [],
   "source": [
    "def find_dif(col1, col2):\n",
    "    d1 = abs(col1[0] - col2[0])\n",
    "    d2 = abs(col1[1] - col2[2])\n",
    "    d3 = abs(col1[0] - col2[0])\n",
    "    return d1, d2, d3"
   ]
  },
  {
   "cell_type": "code",
   "execution_count": 14,
   "metadata": {},
   "outputs": [],
   "source": [
    "def create_features(palette, hueProb, hueJoint, hueAdjacency):\n",
    "    rgb = np.zeros((len(palette), 3))\n",
    "    lab = np.zeros((len(palette), 3))\n",
    "    hsv = np.zeros((len(palette), 3))\n",
    "    chsv = np.zeros((len(palette), 3))\n",
    "    rgb_sorted = np.zeros((len(palette), 3))\n",
    "    lab_sorted = np.zeros((len(palette), 3))\n",
    "    hsv_sorted = np.zeros((len(palette), 3))\n",
    "    chsv_sorted = np.zeros((len(palette), 3))\n",
    "    rgb_diff = np.zeros((4, 3))\n",
    "    lab_diff = np.zeros((4, 3))\n",
    "    hsv_diff = np.zeros((4, 3))\n",
    "    chsv_diff = np.zeros((4, 3))\n",
    "    rgb_diff_s = np.zeros((4, 3))\n",
    "    lab_diff_s = np.zeros((4, 3))\n",
    "    hsv_diff_s = np.zeros((4, 3))\n",
    "    chsv_diff_s = np.zeros((4, 3))\n",
    "    rgb_mean = np.zeros(3)\n",
    "    rgb_std = np.zeros(3)\n",
    "    rgb_median = np.zeros(3)\n",
    "    rgb_min = np.zeros(3)\n",
    "    rgb_max = np.zeros(3)\n",
    "    lab_mean = np.zeros(3)\n",
    "    lab_std = np.zeros(3)\n",
    "    lab_median = np.zeros(3)\n",
    "    lab_min = np.zeros(3)\n",
    "    lab_max = np.zeros(3)\n",
    "    hsv_mean = np.zeros(3)\n",
    "    hsv_std = np.zeros(3)\n",
    "    hsv_median = np.zeros(3)\n",
    "    hsv_min = np.zeros(3)\n",
    "    hsv_max = np.zeros(3)\n",
    "    chsv_mean = np.zeros(3)\n",
    "    chsv_std = np.zeros(3)\n",
    "    chsv_median = np.zeros(3)\n",
    "    chsv_min = np.zeros(3)\n",
    "    chsv_max = np.zeros(3)\n",
    "    rgb_mmd = np.zeros(3)\n",
    "    lab_mmd = np.zeros(3)\n",
    "    hsv_mmd = np.zeros(3)\n",
    "    chsv_mmd = np.zeros(3)\n",
    "    hj = np.zeros((5, 5))\n",
    "    ha = np.zeros((5, 5))\n",
    "    for i in range(len(palette)):\n",
    "        rgb[i] = palette[i]\n",
    "        lab[i] = rgb2lab(rgb[i][0], rgb[i][1], rgb[i][2])\n",
    "        hsv[i] = rgb2hsv(rgb[i][0], rgb[i][1], rgb[i][2])\n",
    "        chsv[i] = rgb2chsv(rgb[i][0], rgb[i][1], rgb[i][2]) \n",
    "        rgb_sorted[i] = sorted(rgb[i])\n",
    "        lab_sorted[i] = sorted(lab[i])\n",
    "        hsv_sorted[i] = sorted(hsv[i])\n",
    "        chsv_sorted[i] = sorted(chsv[i])\n",
    "    for i in range(4):\n",
    "        rgb_diff[i] = find_dif(rgb[i], rgb[i+1])\n",
    "        lab_diff[i] = find_dif(lab[i], lab[i+1])\n",
    "        hsv_diff[i] = find_dif(hsv[i], hsv[i+1])\n",
    "        chsv_diff[i] = find_dif(chsv[i], chsv[i+1])\n",
    "        rgb_diff_s[i] = sorted(rgb_diff[i])\n",
    "        lab_diff_s[i] = sorted(lab_diff[i])\n",
    "        hsv_diff_s[i] = sorted(hsv_diff[i])\n",
    "        chsv_diff_s[i] = sorted(chsv_diff[i])\n",
    "    for i in range(3):\n",
    "        rgb_mean[i] = np.mean(rgb[:, i])\n",
    "        rgb_std[i] = np.std(rgb[:, i])\n",
    "        rgb_median[i] = np.median(rgb[:, i])\n",
    "        rgb_min[i] = min(rgb[:, i])\n",
    "        rgb_max[i] = max(rgb[:, i])\n",
    "        lab_mean[i] = np.mean(lab[:, i])\n",
    "        lab_std[i] = np.std(lab[:, i])\n",
    "        lab_median[i] = np.median(lab[:, i])\n",
    "        lab_min[i] = min(lab[:, i])\n",
    "        lab_max[i] = max(lab[:, i])\n",
    "        hsv_mean[i] = np.mean(hsv[:, i])\n",
    "        hsv_std[i] = np.std(hsv[:, i])\n",
    "        hsv_median[i] = np.median(hsv[:, i])\n",
    "        hsv_min[i] = min(hsv[:, i])\n",
    "        hsv_max[i] = max(hsv[:, i])\n",
    "        chsv_mean[i] = np.mean(chsv[:, i])\n",
    "        chsv_std[i] = np.std(chsv[:, i])\n",
    "        chsv_median[i] = np.median(chsv[:, i])\n",
    "        chsv_min[i] = min(chsv[:, i])\n",
    "        chsv_max[i] = max(chsv[:, i])\n",
    "        rgb_mmd[i] = rgb_max[i] - rgb_min[i]\n",
    "        lab_mmd[i] = lab_max[i] - lab_min[i]\n",
    "        hsv_mmd[i] = hsv_max[i] - hsv_min[i]\n",
    "        chsv_mmd[i] = chsv_max[i] - chsv_min[i]\n",
    "        \n",
    "    hsv_indices = (hsv[:, 0]*360).astype(int)\n",
    "    hp_mean = np.mean(hueProb[0][0][hsv_indices]/100.0)\n",
    "    hp_std = np.std(hueProb[0][0][hsv_indices]/100.0)\n",
    "    hp_min = np.amin(hueProb[0][0][hsv_indices]/100.0)\n",
    "    hp_max = np.amax(hueProb[0][0][hsv_indices]/100.0)\n",
    "    hp_mean_log = np.mean(np.log(hueProb[0][0][hsv_indices]/100.0))\n",
    "    hp_std_log = np.std(np.log(hueProb[0][0][hsv_indices]/100.0))\n",
    "    hp_min_log = np.amin(np.log(hueProb[0][0][hsv_indices]/100.0))\n",
    "    hp_max_log = np.amax(np.log(hueProb[0][0][hsv_indices]/100.0))\n",
    "    \n",
    "    for i in range(5):\n",
    "        for j in range(5):\n",
    "            hj[i][j] = hueJoint[0][0][hsv_indices[i]][hsv_indices[j]]\n",
    "            ha[i][j] = hueAdjacency[0][0][hsv_indices[i]][hsv_indices[j]]\n",
    "            \n",
    "    hj_mean = np.mean(hj/100.0)\n",
    "    hj_std = np.std(hj/100.0)\n",
    "    hj_min = np.min(hj/100.0)\n",
    "    hj_max = np.max(hj/100.0)\n",
    "    hj_mean_log = np.mean(np.log((hj/100.0)))\n",
    "    hj_std_log = np.std(np.log((hj/100.0)))\n",
    "    hj_min_log = np.min(np.log((hj/100.0)))\n",
    "    hj_max_log = np.max(np.log((hj/100.0)))\n",
    "    \n",
    "    \n",
    "    ha_mean = np.mean(ha/100.0)\n",
    "    ha_std = np.std(ha/100.0)\n",
    "    ha_min = np.min(ha/100.0)\n",
    "    ha_max = np.max(ha/100.0)\n",
    "    ha_mean_log = np.mean(np.log((ha/100.0)))\n",
    "    ha_std_log = np.std(np.log((ha/100.0)))\n",
    "    ha_min_log = np.min(np.log((ha/100.0)))\n",
    "    ha_max_log = np.max(np.log((ha/100.0)))\n",
    "\n",
    "    result = (np.ravel(rgb), np.ravel(rgb_sorted), np.ravel(rgb_diff), np.ravel(rgb_diff_s), np.ravel(rgb_mean),np.ravel(rgb_std), np.ravel(rgb_median), np.ravel(rgb_max), np.ravel(rgb_min), np.ravel(rgb_mmd), np.ravel(lab), np.ravel(lab_sorted), np.ravel(lab_diff), np.ravel(lab_diff_s), np.ravel(lab_mean),np.ravel(lab_std), np.ravel(lab_median), np.ravel(lab_max), np.ravel(lab_min), np.ravel(lab_mmd), np.ravel(chsv), np.ravel(chsv_sorted), np.ravel(chsv_diff), np.ravel(chsv_diff_s), np.ravel(chsv_mean),np.ravel(chsv_std), np.ravel(chsv_median), np.ravel(chsv_max), np.ravel(chsv_min), np.ravel(chsv_mmd), np.ravel(hsv), np.ravel(hsv_sorted), np.ravel(hsv_diff), np.ravel(hsv_diff_s), np.ravel(hsv_mean),np.ravel(hsv_std), np.ravel(hsv_median), np.ravel(hsv_max), np.ravel(hsv_min), np.ravel(hsv_mmd), np.ravel(hp_mean), np.ravel(hp_std), np.ravel(hp_max), np.ravel(hp_min), np.ravel(hp_mean_log), np.ravel(hp_std_log), np.ravel(hp_max_log), np.ravel(hp_min_log), np.ravel(ha_mean), np.ravel(ha_std), np.ravel(ha_max), np.ravel(ha_min), np.ravel(ha_mean_log), np.ravel(ha_std_log), np.ravel(ha_max_log), np.ravel(ha_min_log), np.ravel(hj_mean), np.ravel(hj_std), np.ravel(hj_max), np.ravel(hj_min), np.ravel(hj_mean_log), np.ravel(hj_std_log), np.ravel(hj_max_log), np.ravel(hj_min_log))\n",
    "    r = np.concatenate(result).ravel()\n",
    "    #result = np.ndarray.flatten(np.array(np.ravel(rgb), np.ravel(rgb_sorted), np.ravel(rgb_diff), np.ravel(rgb_diff_s), np.ravel(rgb_mean), np.ravel(rgb_std), np.ravel(rgb_median), np.ravel(rgb_min), np.ravel(rgb_max), np.ravel(rgb_mmd))\n",
    "    #r = np.ravel(result)\n",
    "    #print (len(r))\n",
    "    return r\n",
    "    \n",
    "    #print((hueJoint[0][0][(hsv[:, 0]*360).astype(int)]/100.0))\n",
    "    #print((hueJoint[0][0][(hsv[:, 0]*360).astype(int)][np.transpose((hsv[:, 0]*360).astype(int))])"
   ]
  },
  {
   "cell_type": "markdown",
   "metadata": {},
   "source": [
    "### Creating Feature Vector"
   ]
  },
  {
   "cell_type": "code",
   "execution_count": 15,
   "metadata": {},
   "outputs": [],
   "source": [
    "w = len(palette)\n",
    "h = 312\n",
    "features = np.zeros((w, h))"
   ]
  },
  {
   "cell_type": "code",
   "execution_count": 16,
   "metadata": {},
   "outputs": [
    {
     "name": "stdout",
     "output_type": "stream",
     "text": [
      "0\n"
     ]
    },
    {
     "name": "stderr",
     "output_type": "stream",
     "text": [
      "D:\\Anaconda\\lib\\site-packages\\ipykernel_launcher.py:117: RuntimeWarning: divide by zero encountered in log\n",
      "D:\\Anaconda\\lib\\site-packages\\ipykernel_launcher.py:118: RuntimeWarning: divide by zero encountered in log\n",
      "D:\\Anaconda\\lib\\site-packages\\numpy\\core\\_methods.py:112: RuntimeWarning: invalid value encountered in subtract\n",
      "  x = asanyarray(arr - arrmean)\n",
      "D:\\Anaconda\\lib\\site-packages\\ipykernel_launcher.py:119: RuntimeWarning: divide by zero encountered in log\n",
      "D:\\Anaconda\\lib\\site-packages\\ipykernel_launcher.py:120: RuntimeWarning: divide by zero encountered in log\n"
     ]
    },
    {
     "name": "stdout",
     "output_type": "stream",
     "text": [
      "1\n",
      "2\n",
      "3\n",
      "4\n",
      "5\n",
      "6\n",
      "7\n",
      "8\n"
     ]
    },
    {
     "name": "stderr",
     "output_type": "stream",
     "text": [
      "D:\\Anaconda\\lib\\site-packages\\ipykernel_launcher.py:107: RuntimeWarning: divide by zero encountered in log\n",
      "D:\\Anaconda\\lib\\site-packages\\ipykernel_launcher.py:108: RuntimeWarning: divide by zero encountered in log\n",
      "D:\\Anaconda\\lib\\site-packages\\ipykernel_launcher.py:109: RuntimeWarning: divide by zero encountered in log\n",
      "D:\\Anaconda\\lib\\site-packages\\ipykernel_launcher.py:110: RuntimeWarning: divide by zero encountered in log\n"
     ]
    },
    {
     "name": "stdout",
     "output_type": "stream",
     "text": [
      "9\n",
      "10\n",
      "11\n",
      "12\n",
      "13\n",
      "14\n",
      "15\n",
      "16\n",
      "17\n",
      "18\n",
      "19\n",
      "20\n",
      "21\n",
      "22\n",
      "23\n",
      "24\n",
      "25\n",
      "26\n",
      "27\n",
      "28\n",
      "29\n",
      "30\n",
      "31\n",
      "32\n",
      "33\n",
      "34\n",
      "35\n",
      "36\n",
      "37\n",
      "38\n",
      "39\n",
      "40\n",
      "41\n",
      "42\n",
      "43\n",
      "44\n"
     ]
    }
   ],
   "source": [
    "for i in range(w):\n",
    "    features[i] = create_features(palette[i], hueProb, hueJoint, hueAdjacency)\n",
    "    if(i%1000 == 0):\n",
    "        print (int(i/1000.0))"
   ]
  },
  {
   "cell_type": "markdown",
   "metadata": {},
   "source": [
    "Check whether there are NaNs and inf-s in data and replace them with 0:"
   ]
  },
  {
   "cell_type": "code",
   "execution_count": 17,
   "metadata": {},
   "outputs": [],
   "source": [
    "features_clean = features\n",
    "features_clean[np.isnan(features_clean)] = 0\n",
    "features_clean[np.isinf(features_clean)] = 0"
   ]
  },
  {
   "cell_type": "code",
   "execution_count": 18,
   "metadata": {},
   "outputs": [
    {
     "name": "stdout",
     "output_type": "stream",
     "text": [
      "False\n",
      "True\n"
     ]
    }
   ],
   "source": [
    "print(np.any(np.isnan(features_clean)))\n",
    "print(np.all(np.isfinite(features_clean)))"
   ]
  },
  {
   "cell_type": "code",
   "execution_count": 19,
   "metadata": {},
   "outputs": [],
   "source": [
    "ratings_clean = rating\n",
    "ratings_clean[np.isnan(ratings_clean)] = 0\n",
    "ratings_clean[np.isinf(ratings_clean)] = 0"
   ]
  },
  {
   "cell_type": "markdown",
   "metadata": {},
   "source": [
    "### Prepare train and test data:"
   ]
  },
  {
   "cell_type": "code",
   "execution_count": 20,
   "metadata": {},
   "outputs": [],
   "source": [
    "X = features_clean\n",
    "Y = ratings_clean"
   ]
  },
  {
   "cell_type": "code",
   "execution_count": 21,
   "metadata": {},
   "outputs": [],
   "source": [
    "X_train,X_test,y_train,y_test=train_test_split(X,Y, test_size=0.3, random_state=31)"
   ]
  },
  {
   "cell_type": "markdown",
   "metadata": {},
   "source": [
    "### MLPClassifier:"
   ]
  },
  {
   "cell_type": "code",
   "execution_count": 22,
   "metadata": {},
   "outputs": [],
   "source": [
    "from sklearn.metrics import mean_squared_error, explained_variance_score\n",
    "from sklearn.model_selection import cross_val_predict\n",
    "from sklearn import cross_validation"
   ]
  },
  {
   "cell_type": "code",
   "execution_count": 23,
   "metadata": {},
   "outputs": [],
   "source": [
    "from sklearn.neural_network import MLPRegressor\n",
    "mlp = MLPRegressor(activation='logistic')"
   ]
  },
  {
   "cell_type": "code",
   "execution_count": 24,
   "metadata": {},
   "outputs": [
    {
     "name": "stderr",
     "output_type": "stream",
     "text": [
      "D:\\Anaconda\\lib\\site-packages\\sklearn\\neural_network\\multilayer_perceptron.py:1306: DataConversionWarning: A column-vector y was passed when a 1d array was expected. Please change the shape of y to (n_samples, ), for example using ravel().\n",
      "  y = column_or_1d(y, warn=True)\n"
     ]
    },
    {
     "data": {
      "text/plain": [
       "MLPRegressor(activation='logistic', alpha=0.0001, batch_size='auto',\n",
       "       beta_1=0.9, beta_2=0.999, early_stopping=False, epsilon=1e-08,\n",
       "       hidden_layer_sizes=(100,), learning_rate='constant',\n",
       "       learning_rate_init=0.001, max_iter=200, momentum=0.9,\n",
       "       nesterovs_momentum=True, power_t=0.5, random_state=None,\n",
       "       shuffle=True, solver='adam', tol=0.0001, validation_fraction=0.1,\n",
       "       verbose=False, warm_start=False)"
      ]
     },
     "execution_count": 24,
     "metadata": {},
     "output_type": "execute_result"
    }
   ],
   "source": [
    "mlp.fit(X_train,y_train)"
   ]
  },
  {
   "cell_type": "code",
   "execution_count": 25,
   "metadata": {},
   "outputs": [],
   "source": [
    "predictions = mlp.predict(X_test)"
   ]
  },
  {
   "cell_type": "code",
   "execution_count": 26,
   "metadata": {},
   "outputs": [
    {
     "data": {
      "text/plain": [
       "0.6767468742758065"
      ]
     },
     "execution_count": 26,
     "metadata": {},
     "output_type": "execute_result"
    }
   ],
   "source": [
    "rmse = np.sqrt(mean_squared_error(y_test,predictions))\n",
    "rmse"
   ]
  },
  {
   "cell_type": "code",
   "execution_count": 27,
   "metadata": {},
   "outputs": [
    {
     "data": {
      "image/png": "[encoded data removed]",
      "text/plain": [
       "<matplotlib.figure.Figure at 0x19d25724dd8>"
      ]
     },
     "metadata": {},
     "output_type": "display_data"
    }
   ],
   "source": [
    "plt.plot(y_test, predictions, 'r.')\n",
    "plt.show()"
   ]
  },
  {
   "cell_type": "markdown",
   "metadata": {},
   "source": [
    "# Defining functions"
   ]
  },
  {
   "cell_type": "code",
   "execution_count": 28,
   "metadata": {},
   "outputs": [],
   "source": [
    "def pixel_rgb2lab(r, g, b):\n",
    "    inputColor = [r, g, b]\n",
    "    num = 0\n",
    "    RGB = [0, 0, 0]\n",
    "    for value in inputColor:\n",
    "        value = float(value) / 255\n",
    "        if value > 0.04045:\n",
    "            value = ( ( value + 0.055 ) / 1.055 ) ** 2.4\n",
    "        else:\n",
    "            value = value / 12.92\n",
    "        RGB[num] = value * 100\n",
    "        num = num + 1\n",
    "    XYZ = [0, 0, 0,]\n",
    "    X = RGB [0] * 0.4124 + RGB [1] * 0.3576 + RGB [2] * 0.1805\n",
    "    Y = RGB [0] * 0.2126 + RGB [1] * 0.7152 + RGB [2] * 0.0722\n",
    "    Z = RGB [0] * 0.0193 + RGB [1] * 0.1192 + RGB [2] * 0.9505\n",
    "    XYZ[ 0 ] = round( X, 4 )\n",
    "    XYZ[ 1 ] = round( Y, 4 )\n",
    "    XYZ[ 2 ] = round( Z, 4 )\n",
    "    XYZ[ 0 ] = float( XYZ[ 0 ] ) / 95.047         # ref_X =  95.047   Observer= 2°, Illuminant= D65\n",
    "    XYZ[ 1 ] = float( XYZ[ 1 ] ) / 100.0          # ref_Y = 100.000\n",
    "    XYZ[ 2 ] = float( XYZ[ 2 ] ) / 108.883        # ref_Z = 108.883\n",
    "    num = 0\n",
    "    for value in XYZ:\n",
    "        if value > 0.008856:\n",
    "            value = value ** ( 0.3333333333333333 )\n",
    "        else:\n",
    "            value = ( 7.787 * value ) + ( 16 / 116 )\n",
    "        XYZ[num] = value\n",
    "        num = num + 1\n",
    "    Lab = [0, 0, 0]\n",
    "    L = ( 116 * XYZ[ 1 ] ) - 16\n",
    "    a = 500 * ( XYZ[ 0 ] - XYZ[ 1 ] )\n",
    "    b = 200 * ( XYZ[ 1 ] - XYZ[ 2 ] )\n",
    "    Lab [ 0 ] = max(0, min(round( L, 4 ), 100))\n",
    "    Lab [ 1 ] = max(-128, min(round( a, 4 ), 128))\n",
    "    Lab [ 2 ] = max(-128, min(round( b, 4 ), 128))\n",
    "    return Lab"
   ]
  },
  {
   "cell_type": "code",
   "execution_count": 29,
   "metadata": {},
   "outputs": [],
   "source": [
    "def image_rgb2lab(image_rgb):\n",
    "    image_lab = np.zeros((image_rgb.shape[0], image_rgb.shape[1], 3))\n",
    "    for i in range(image_rgb.shape[0]):\n",
    "        for j in range(image_rgb.shape[1]):\n",
    "            image_lab[i, j] = pixel_rgb2lab(image_rgb[i, j, 0], image_rgb[i, j, 1], image_rgb[i, j, 2])\n",
    "    return image_lab"
   ]
  },
  {
   "cell_type": "code",
   "execution_count": 30,
   "metadata": {},
   "outputs": [],
   "source": [
    "def pixel_lab2rgb(l, a , b):\n",
    "    \n",
    "    fY = pow((l + 16)/116, 3)\n",
    "    if fY < 0.008856:\n",
    "        fY = l/903.3\n",
    "    Y = fY\n",
    "    \n",
    "    if fY > 0.008856:\n",
    "        fY = pow(fY, 1/3)\n",
    "    else:\n",
    "        fY = 7.787 * fY + 16/116\n",
    "    \n",
    "    fX = a / 500 + fY\n",
    "    if fX > 0.206893:\n",
    "        X = pow(fX, 3)\n",
    "    else:\n",
    "        X = (fX - 16/116) / 7.787\n",
    "    \n",
    "    fZ = fY - b/200\n",
    "    if fZ > 0.206893:\n",
    "        Z = pow(fZ, 3)\n",
    "    else:\n",
    "        Z = (fZ - 16/116) / 7.787\n",
    "    \n",
    "    X = X * 0.950456 * 255\n",
    "    Y = Y * 255\n",
    "    Z = Z * 1.088754 * 255\n",
    "    \n",
    "    RR = (int)(3.240479 * X - 1.537150 * Y - 0.498535 * Z + 0.5)\n",
    "    GG = (int)(-0.969256 * X + 1.875992 * Y + 0.047556 * Z + 0.5)\n",
    "    BB = (int)(0.055648 * X - 0.204043 * Y + 1.057311 * Z + 0.5)\n",
    "    \n",
    "    if RR < 0 : R = 0\n",
    "    elif RR > 255: R = 255\n",
    "    else : R = RR\n",
    "        \n",
    "    if GG < 0 : G = 0\n",
    "    elif GG > 255 : G = 255\n",
    "    else : G = GG\n",
    "    \n",
    "    if BB < 0 : B = 0\n",
    "    elif BB > 255 : B = 255\n",
    "    else : B = BB\n",
    "        \n",
    "    RGB = [0, 0, 0]\n",
    "    RGB[0] = R\n",
    "    RGB[1] = G\n",
    "    RGB[2] = B\n",
    "    \n",
    "    return RGB"
   ]
  },
  {
   "cell_type": "code",
   "execution_count": 31,
   "metadata": {},
   "outputs": [],
   "source": [
    "def palette_hsv2rgb(palette):\n",
    "    palette_rgb = np.zeros((palette.shape[0], 3))\n",
    "    for i in range(palette.shape[0]):\n",
    "            palette_rgb[i] = colorsys.hsv_to_rgb(palette[i, 0], palette[i, 1], palette[i, 2])\n",
    "            palette_rgb[i, 0] = palette_rgb[i, 0] * 255\n",
    "            palette_rgb[i, 1] = palette_rgb[i, 1] * 255\n",
    "            palette_rgb[i, 2] = palette_rgb[i, 2] * 255\n",
    "    return palette_rgb"
   ]
  },
  {
   "cell_type": "code",
   "execution_count": 32,
   "metadata": {},
   "outputs": [],
   "source": [
    "def palette_rgb2hsv(palette):\n",
    "    palette_hsv = np.zeros((palette.shape[0], 3))\n",
    "    for i in range(palette.shape[0]):\n",
    "            palette_hsv[i] = colorsys.rgb_to_hsv(palette[i, 0], palette[i, 1], palette[i, 2])\n",
    "            palette_hsv[i, 0] = palette_hsv[i, 0] * 255\n",
    "            palette_hsv[i, 1] = palette_hsv[i, 1] * 255\n",
    "            palette_hsv[i, 2] = palette_hsv[i, 2] * 255\n",
    "    return palette_hsv"
   ]
  },
  {
   "cell_type": "code",
   "execution_count": 33,
   "metadata": {},
   "outputs": [],
   "source": [
    "def image_rgb2lab(image_lab):\n",
    "    image_rgb = np.zeros((image_lab.shape[0], image_lab.shape[1], 3))\n",
    "    for i in range(image_lab.shape[0]):\n",
    "        for j in range(image_lab.shape[1]):\n",
    "            image_rgb[i, j] = pixel_rgb2lab(image_lab[i, j, 0], image_lab[i, j, 1], image_lab[i, j, 2])\n",
    "    return image_rgb"
   ]
  },
  {
   "cell_type": "code",
   "execution_count": 34,
   "metadata": {},
   "outputs": [],
   "source": [
    "def distinct_pixels(image_array):\n",
    "    image_flat = image_array.reshape((int(image_array.size/3), 3))\n",
    "    image_distinct_list = list(map(list, OrderedDict.fromkeys(map(tuple, image_flat))))\n",
    "    image_distinc = np.array(image_distinct_list)\n",
    "    return image_distinc"
   ]
  },
  {
   "cell_type": "code",
   "execution_count": 35,
   "metadata": {},
   "outputs": [],
   "source": [
    "def number_of_elements(image_array, pixel_array):\n",
    "    distinct_count = np.zeros((pixel_array.shape[0]))\n",
    "    pixel_list = pixel_array.tolist()\n",
    "    for i in range (pixel_array.shape[0]):\n",
    "        distinct_count[i] = image_array.count(pixel_list[i])\n",
    "    return distinct_count"
   ]
  },
  {
   "cell_type": "code",
   "execution_count": 36,
   "metadata": {},
   "outputs": [],
   "source": [
    "def clustering(image, n):\n",
    "    peal = np.zeros((n))\n",
    "    image_flat = image.reshape(scipy.product(image.shape[:2]), image.shape[2]).astype(float)\n",
    "    codes, dist = scipy.cluster.vq.kmeans(image_flat, n)\n",
    "    return codes"
   ]
  },
  {
   "cell_type": "code",
   "execution_count": 37,
   "metadata": {},
   "outputs": [],
   "source": [
    "def k_means(image, n): \n",
    "    arr = image.reshape((-1, 3))\n",
    "    kmeans = KMeans(n_clusters=n, random_state=42).fit(arr)\n",
    "    labels = kmeans.labels_\n",
    "    centers = kmeans.cluster_centers_\n",
    "    #less_colors = centers[labels]\n",
    "    \n",
    "    return centers"
   ]
  },
  {
   "cell_type": "code",
   "execution_count": 38,
   "metadata": {},
   "outputs": [],
   "source": [
    "def classify_color(rgb, hueProb, hueJoint, hueAdjacency):\n",
    "    features = create_features(rgb, hueProb, hueJoint, hueAdjacency)\n",
    "    rating = mlp.predict(np.matrix((features)).T.T)[0]\n",
    "    \n",
    "    if rating > 3.11:\n",
    "        classification = 'good'\n",
    "    else:\n",
    "        classification = 'bad'\n",
    "    return classification"
   ]
  },
  {
   "cell_type": "code",
   "execution_count": 39,
   "metadata": {},
   "outputs": [],
   "source": [
    "def predict_from_color(rgb, hueProb, hueJoint, hueAdjacency):\n",
    "    features = create_features(rgb, hueProb, hueJoint, hueAdjacency)\n",
    "    rating = mlp.predict(np.matrix((features)).T.T)[0]\n",
    "    return rating"
   ]
  },
  {
   "cell_type": "code",
   "execution_count": 40,
   "metadata": {},
   "outputs": [],
   "source": [
    "def max_distance(color, theme):\n",
    "    max_distance = -math.inf\n",
    "    for i in range(theme.shape[0]):\n",
    "        distance = math.sqrt((theme[i, 0] - color[0])**2 + (theme[i, 1] - color[1])**2 + (theme[i, 2] - color[2])**2)\n",
    "        if max_distance < distance:\n",
    "            max_distance = distance\n",
    "    return max_distance"
   ]
  },
  {
   "cell_type": "code",
   "execution_count": 41,
   "metadata": {},
   "outputs": [],
   "source": [
    "def theme_distance(theme_color, color, color_count, m):\n",
    "    distances = np.zeros((color.shape[0]))\n",
    "    for i in range(color.shape[0]):\n",
    "        distances[i] = math.sqrt((color[i, 0] - theme_color[0])**2 + (color[i, 1] - theme_color[1])**2 + (color[i, 2] - theme_color[2])**2)\n",
    "    \n",
    "    #color_sorted = [x for _,x in sorted(zip(distances, color))]\n",
    "    count_sorted = np.array([x for _,x in sorted(zip(distances, color_count))])\n",
    "    distance_sorted = np.array([x for _,x in sorted(zip(distances, distances))])\n",
    "    \n",
    "    max_distance = 0\n",
    "    \n",
    "    for i in range (distance_sorted.shape[0]):\n",
    "        if count_sorted[i] * i >= m:\n",
    "            max_distance = distance_sorted[i]\n",
    "            i = distance_sorted.shape[0]+1\n",
    "            \n",
    "    return max_distance"
   ]
  },
  {
   "cell_type": "code",
   "execution_count": 42,
   "metadata": {},
   "outputs": [],
   "source": [
    "def find_palette_colors(image, pixel_lab, distinct_count, hueProb, hueJoint, hueAdjacency, alpha = 0):\n",
    "    n=5\n",
    "    dominant_colors = np.array(k_means(image, int(10)))\n",
    "    color_themes_list = permutations(dominant_colors, n)\n",
    "    color_themes_lab = np.array(list(color_themes_list))\n",
    "    \n",
    "    pixel_num = image.shape[0] * image.shape[1]\n",
    "    m = pixel_num/20\n",
    "    betta = 0.25\n",
    "    \n",
    "    color_themes_rgb = np.zeros((color_themes_lab.shape[0], color_themes_lab.shape[1], 3))\n",
    "    for i in range (color_themes_lab.shape[0]):\n",
    "        for j in range (color_themes_lab.shape[1]):\n",
    "            color_themes_rgb[i, j] = pixel_lab2rgb(color_themes_lab[i, j, 0], color_themes_lab[i, j, 1], color_themes_lab[i, j, 2])\n",
    "            \n",
    "    max_rating = -math.inf\n",
    "    palette = np.zeros((n, 3))\n",
    "    \n",
    "    penalty1 = np.zeros((dominant_colors.shape[0]))\n",
    "    for i in range(dominant_colors.shape[0]):\n",
    "        for j in range(pixel_lab.shape[0]):\n",
    "            penalty1[i] += distinct_count[j] * max_distance(pixel_lab[j], color_themes_lab[i])\n",
    "            \n",
    "    \n",
    "    for i in range(color_themes_lab.shape[0]):\n",
    "\n",
    "        rating = 0\n",
    "        \n",
    "        if alpha > 0:\n",
    "            rating += predict_from_color(color_themes_rgb[i]/255, hueProb, hueJoint, hueAdjacency)\n",
    "\n",
    "            rating = rating / (color_themes_lab.shape[1] - 4)\n",
    "                    \n",
    "        rating = rating * alpha\n",
    "\n",
    "        penalty = 0\n",
    "        \n",
    "        for j in range(penalty1.shape[0]):\n",
    "            for k in range(color_themes_lab.shape[1]):\n",
    "                if color_themes_lab[i, k, 0] == dominant_colors[j, 0] and  color_themes_lab[i, k, 1] == dominant_colors[j, 1] and color_themes_lab[i, k, 2] == dominant_colors[j, 2]:\n",
    "                    penalty += penalty1[j]\n",
    "        \n",
    "        penalty = penalty / pixel_num\n",
    "        overal_rating = rating - penalty\n",
    "        \n",
    "        if rating > max_rating:\n",
    "            max_rating = rating\n",
    "            palette = color_themes_lab[i]\n",
    "            \n",
    "    return palette"
   ]
  },
  {
   "cell_type": "code",
   "execution_count": 43,
   "metadata": {},
   "outputs": [],
   "source": [
    "def rgb2ColorCode(theme):\n",
    "    colorCode = list()\n",
    "    for i in range(theme.shape[0]):\n",
    "         colorCode.append('#%02x%02x%02x' % (int(theme[i, 0]), int(theme[i, 1]), int(theme[i, 2])))\n",
    "    return colorCode"
   ]
  },
  {
   "cell_type": "code",
   "execution_count": 178,
   "metadata": {},
   "outputs": [],
   "source": [
    "def dominant_colors(image, alpha, hueProb, hueJoint, hueAdjacency):\n",
    "    image_lab = image\n",
    "    image_lab_flat = image_lab.copy().reshape((int(image_lab.size/3), 3))\n",
    "    image_lab_distinct = distinct_pixels(image_lab)\n",
    "    image_lab_distinct_count = number_of_elements(image_lab_flat.tolist(), image_lab_distinct.copy())\n",
    "    theme = find_palette_colors(image_lab, image_lab_distinct, image_lab_distinct_count, hueProb, hueJoint, hueAdjacency, alpha)    \n",
    "    \n",
    "    if alpha == 0:\n",
    "        theme_hsv = palette_rgb2hsv(np.array(theme))\n",
    "        value = theme_hsv[:,1]\n",
    "        theme = np.array([x for _,x in sorted(zip(value,theme))])\n",
    "    \n",
    "    sns.set(rc = {\"figure.figsize\": (5, 5)})\n",
    "    current_palette = rgb2ColorCode(theme)\n",
    "    sns.palplot(sns.color_palette(current_palette))\n",
    "    "
   ]
  },
  {
   "cell_type": "code",
   "execution_count": 174,
   "metadata": {},
   "outputs": [],
   "source": [
    "def dominant_colors_k_mean(image):\n",
    "    theme = k_means(image, 5)\n",
    "    \n",
    "    theme_hsv = palette_rgb2hsv(np.array(theme))\n",
    "    value = theme_hsv[:,1]\n",
    "    theme_sorted = np.array([x for _,x in sorted(zip(value,theme))])\n",
    "    \n",
    "    \n",
    "    sns.set(rc = {\"figure.figsize\": (5, 5)})\n",
    "    current_palette = rgb2ColorCode(theme_sorted)\n",
    "    sns.palplot(sns.color_palette(current_palette))"
   ]
  },
  {
   "cell_type": "code",
   "execution_count": 46,
   "metadata": {},
   "outputs": [],
   "source": [
    "def k_medoid(image):\n",
    "    \n",
    "    data = image.reshape((int(image.size/3), 3))\n",
    "    D = pairwise_distances(data, metric='euclidean')\n",
    "    M, C = kmedoids.kMedoids(D, 5)\n",
    "    metoids = np.zeros((5, 3))\n",
    "    i = 0\n",
    "    for point_idx in M:\n",
    "        metoids[i] = data[point_idx]\n",
    "        i += 1\n",
    "        \n",
    "    metoids_hsv = palette_rgb2hsv(np.array(metoids))\n",
    "    value = metoids_hsv[:,1]\n",
    "    theme_sorted = np.array([x for _,x in sorted(zip(value, metoids))])\n",
    "    \n",
    "    sns.set(rc = {\"figure.figsize\": (5, 5)})\n",
    "    current_palette = rgb2ColorCode(theme_sorted)\n",
    "    sns.palplot(sns.color_palette(current_palette))\n",
    "    \n"
   ]
  },
  {
   "cell_type": "markdown",
   "metadata": {},
   "source": [
    "# Dominant Colors"
   ]
  },
  {
   "cell_type": "code",
   "execution_count": 171,
   "metadata": {},
   "outputs": [],
   "source": [
    "response = requests.get(\"https://66.media.tumblr.com/a4ad29805f57754e036dde2aba910bdd/tumblr_obwvkkGelW1s0u653o8_1280.jpg\")\n",
    "ig = Image.open(BytesIO(response.content))\n",
    "ig = ig.resize((50,50), Image.NEAREST)\n",
    "img = np.array(ig)"
   ]
  },
  {
   "cell_type": "code",
   "execution_count": 175,
   "metadata": {},
   "outputs": [
    {
     "data": {
      "image/png": "[encoded data removed]",
      "text/plain": [
       "<matplotlib.figure.Figure at 0x19d24f536a0>"
      ]
     },
     "metadata": {},
     "output_type": "display_data"
    }
   ],
   "source": [
    "dominant_colors_k_mean(img)"
   ]
  },
  {
   "cell_type": "code",
   "execution_count": 173,
   "metadata": {},
   "outputs": [
    {
     "data": {
      "image/png": "[encoded data removed]",
      "text/plain": [
       "<matplotlib.figure.Figure at 0x19d254b3240>"
      ]
     },
     "metadata": {},
     "output_type": "display_data"
    }
   ],
   "source": [
    "k_medoid(img)"
   ]
  },
  {
   "cell_type": "code",
   "execution_count": 179,
   "metadata": {},
   "outputs": [
    {
     "data": {
      "image/png": "[encoded data removed]",
      "text/plain": [
       "<matplotlib.figure.Figure at 0x19d25611358>"
      ]
     },
     "metadata": {},
     "output_type": "display_data"
    }
   ],
   "source": [
    "dominant_colors(img, 0, hueProb, hueJoint, hueAdjacency)"
   ]
  },
  {
   "cell_type": "code",
   "execution_count": 180,
   "metadata": {
    "scrolled": true
   },
   "outputs": [
    {
     "data": {
      "image/png": "[encoded data removed]",
      "text/plain": [
       "<matplotlib.figure.Figure at 0x19d26044198>"
      ]
     },
     "metadata": {},
     "output_type": "display_data"
    }
   ],
   "source": [
    "dominant_colors(img, 3, hueProb, hueJoint, hueAdjacency)"
   ]
  },
  {
   "cell_type": "code",
   "execution_count": null,
   "metadata": {},
   "outputs": [],
   "source": []
  }
 ],
 "metadata": {
  "kernelspec": {
   "display_name": "Python 3",
   "language": "python",
   "name": "python3"
  },
  "language_info": {
   "codemirror_mode": {
    "name": "ipython",
    "version": 3
   },
   "file_extension": ".py",
   "mimetype": "text/x-python",
   "name": "python",
   "nbconvert_exporter": "python",
   "pygments_lexer": "ipython3",
   "version": "3.6.4"
  }
 },
 "nbformat": 4,
 "nbformat_minor": 2
}
